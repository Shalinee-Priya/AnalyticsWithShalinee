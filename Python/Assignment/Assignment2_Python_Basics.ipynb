{
 "cells": [
  {
   "cell_type": "raw",
   "id": "ba49be3f-d5ec-453f-ae13-3768aa091901",
   "metadata": {},
   "source": [
    "Name - Shalinee\n",
    "Date - 07.08.25"
   ]
  },
  {
   "cell_type": "markdown",
   "id": "e2bdff36-b3e8-4570-92fc-39c05628aa25",
   "metadata": {},
   "source": [
    "###### Q.1 Print a triangle like one below "
   ]
  },
  {
   "cell_type": "code",
   "execution_count": null,
   "id": "33f83d99-7245-485b-bfda-1b720d6a6bbd",
   "metadata": {},
   "outputs": [],
   "source": [
    "*\n",
    "**\n",
    "***\n",
    "****\n",
    "*****"
   ]
  },
  {
   "cell_type": "code",
   "execution_count": 5,
   "id": "a3b79868-8ada-4581-8aa3-0d80b035ce6f",
   "metadata": {},
   "outputs": [
    {
     "name": "stdout",
     "output_type": "stream",
     "text": [
      "*\n",
      "\n",
      "**\n",
      "\n",
      "***\n",
      "\n",
      "****\n",
      "\n",
      "*****\n",
      "\n"
     ]
    }
   ],
   "source": [
    "for i in range(5):\n",
    "    for j in range(i+1):\n",
    "        print(\"*\", end='')\n",
    "    print('\\n')"
   ]
  },
  {
   "cell_type": "markdown",
   "id": "e3ffade1-a805-4046-ba51-a8b6ce7cdabd",
   "metadata": {},
   "source": [
    "###### Q2. Write a program that prints result of following expression. "
   ]
  },
  {
   "cell_type": "code",
   "execution_count": null,
   "id": "7a2308ac-66a2-4141-baee-16f745684639",
   "metadata": {},
   "outputs": [],
   "source": [
    "123 - 282\n",
    "----------\n",
    "47.34 + 23"
   ]
  },
  {
   "cell_type": "code",
   "execution_count": 14,
   "id": "42e53597-0077-480a-9ef5-a75ec18dc8fe",
   "metadata": {},
   "outputs": [
    {
     "name": "stdout",
     "output_type": "stream",
     "text": [
      "123 - 282 = -159\n",
      "------------------\n",
      "47.34 + 23 = 70.34\n"
     ]
    }
   ],
   "source": [
    "a = 123\n",
    "b = 282\n",
    "c = 47.34\n",
    "d = 23\n",
    "print(a, '-', b, '=', a-b)\n",
    "print('------------------')\n",
    "print(c, '+', d, '=', c+d)"
   ]
  },
  {
   "cell_type": "markdown",
   "id": "b3316813-0b14-42b1-9f50-3e90e83d01f8",
   "metadata": {},
   "source": [
    "###### Q3. Ask the user to enter the number and then print its squares and cubes. "
   ]
  },
  {
   "cell_type": "code",
   "execution_count": 16,
   "id": "d9616a05-fab9-4a9a-9bcc-54c4460bd414",
   "metadata": {},
   "outputs": [
    {
     "name": "stdin",
     "output_type": "stream",
     "text": [
      "Enter the number: 2\n"
     ]
    },
    {
     "name": "stdout",
     "output_type": "stream",
     "text": [
      "square of the input number: 4\n",
      "cube of the input number: 8\n"
     ]
    }
   ],
   "source": [
    "user_input = int(input(\"Enter the number:\"))\n",
    "sq_num = pow(user_input,2)\n",
    "cube_num = pow(user_input,3)\n",
    "\n",
    "print(\"square of the input number:\", sq_num)\n",
    "print(\"cube of the input number:\", cube_num)"
   ]
  },
  {
   "cell_type": "markdown",
   "id": "98cc69f5-65d3-4f3e-a895-303b044f0fea",
   "metadata": {},
   "source": [
    "###### Q4. Write a program that asks user to input three numbers with separate input statements. Use the variable named total to store the sum of those numbers and avg to store the average of those numbers. Then output the numbers along with the total and average. "
   ]
  },
  {
   "cell_type": "code",
   "execution_count": 21,
   "id": "faa3a1ed-6edf-4d64-9bb3-ef31dad9371b",
   "metadata": {},
   "outputs": [
    {
     "name": "stdin",
     "output_type": "stream",
     "text": [
      "Enter the 1st number: 2\n",
      "Enter the 2nd number: 4\n",
      "Enter the 3rd number: 6\n"
     ]
    },
    {
     "name": "stdout",
     "output_type": "stream",
     "text": [
      "Sum of all the numbers: 12\n",
      "Average of all the numbers: 4.0\n"
     ]
    }
   ],
   "source": [
    "number_1 = int(input(\"Enter the 1st number:\"))\n",
    "number_2 = int(input(\"Enter the 2nd number:\"))\n",
    "number_3 = int(input(\"Enter the 3rd number:\"))\n",
    "\n",
    "total = number_1+number_2+number_3\n",
    "avg_num = total/3\n",
    "\n",
    "print(\"Sum of all the numbers:\", total)\n",
    "print(\"Average of all the numbers:\", avg_num)"
   ]
  },
  {
   "cell_type": "markdown",
   "id": "58d362a4-a057-4ba5-8afb-2f5efc2c8a92",
   "metadata": {},
   "source": [
    "###### Q5. Create a salary estimator. Ask user for the basic salary, using it compute HRA as 10% of basic salary, add conveyance allowance as Rs 3500 to it. Output all the salary components on the console."
   ]
  },
  {
   "cell_type": "code",
   "execution_count": 25,
   "id": "695ecc2c-8715-4fb2-9690-737af80acbbe",
   "metadata": {},
   "outputs": [
    {
     "name": "stdin",
     "output_type": "stream",
     "text": [
      "Basic salary: 95000\n"
     ]
    },
    {
     "name": "stdout",
     "output_type": "stream",
     "text": [
      "HRA: 9500.0\n",
      "conveyance_allowance: 3500\n",
      "Total salary of the Employee: 108000.0\n"
     ]
    }
   ],
   "source": [
    "basic_sal = int(input(\"Basic salary:\"))\n",
    "HRA = 0.1 * basic_sal\n",
    "conveyance_allowance = 3500\n",
    "Total_salary = basic_sal+HRA+conveyance_allowance\n",
    "\n",
    "print(\"HRA:\", HRA)\n",
    "print(\"conveyance_allowance:\", conveyance_allowance)\n",
    "print(\"Total salary of the Employee:\", Total_salary)"
   ]
  },
  {
   "cell_type": "markdown",
   "id": "852cafec-8caf-4c1c-a3ae-c072e1012b51",
   "metadata": {},
   "source": [
    "###### Q6. Explore the contents of math module. Try using following functions from it \n",
    "    exp \n",
    "    floor\n",
    "    ceil\n",
    "    log \n",
    "    factorial"
   ]
  },
  {
   "cell_type": "code",
   "execution_count": 35,
   "id": "69d7e462-d845-4290-a570-7352e949a9b1",
   "metadata": {},
   "outputs": [
    {
     "name": "stdout",
     "output_type": "stream",
     "text": [
      "exp of 2: 7.38905609893065\n",
      "floor of 3.9: 3\n",
      "ceil of 2.1: 3\n",
      "log of 10: 2.302585092994046\n",
      "factorial of 5: 120\n"
     ]
    }
   ],
   "source": [
    "import math\n",
    "print(\"exp of 2:\", math.exp(2))\n",
    "print(\"floor of 3.9:\", math.floor(3.9))\n",
    "print(\"ceil of 2.1:\", math.ceil(2.1))\n",
    "print(\"log of 10:\", math.log(10))\n",
    "print(\"factorial of 5:\", math.factorial(5))"
   ]
  },
  {
   "cell_type": "markdown",
   "id": "98a9d3ae-b59a-4030-bbd6-a088b21a89dc",
   "metadata": {},
   "source": [
    "###### Q7. Explore the way to generate the random numbers using the random module by setting different seed values. "
   ]
  },
  {
   "cell_type": "code",
   "execution_count": 42,
   "id": "52dc46ef-443b-4b6e-87f9-f9fe6a6368e3",
   "metadata": {},
   "outputs": [
    {
     "name": "stdout",
     "output_type": "stream",
     "text": [
      "The random number between 1 to 10: 3\n"
     ]
    }
   ],
   "source": [
    "import random \n",
    "random.seed(1)\n",
    "print(\"The random number between 1 to 10:\", random.randint(1,10))"
   ]
  },
  {
   "cell_type": "markdown",
   "id": "1d5d17a0-2730-424b-a4c8-a464f8dcdada",
   "metadata": {},
   "source": [
    "###### Q8. What will be type of expression ( 5 + 4.5 - 3)"
   ]
  },
  {
   "cell_type": "markdown",
   "id": "edc3bc05-7635-4424-9cf5-6d9bc3dac404",
   "metadata": {},
   "source": [
    "###### float"
   ]
  },
  {
   "cell_type": "markdown",
   "id": "a31ff8c6-924b-4768-921c-8265bd84d95f",
   "metadata": {},
   "source": [
    "###### Q9. Use type() function to check type of 'one', '1 or 2', '1.4' and '1/2'"
   ]
  },
  {
   "cell_type": "code",
   "execution_count": 26,
   "id": "1c1338b1-105e-463d-b332-860b060a46a2",
   "metadata": {},
   "outputs": [
    {
     "data": {
      "text/plain": [
       "str"
      ]
     },
     "execution_count": 26,
     "metadata": {},
     "output_type": "execute_result"
    }
   ],
   "source": [
    "type('one')"
   ]
  },
  {
   "cell_type": "code",
   "execution_count": 27,
   "id": "2c42b611-782c-4deb-9a27-c63438313c0b",
   "metadata": {},
   "outputs": [
    {
     "data": {
      "text/plain": [
       "int"
      ]
     },
     "execution_count": 27,
     "metadata": {},
     "output_type": "execute_result"
    }
   ],
   "source": [
    "type(1 or 2)"
   ]
  },
  {
   "cell_type": "code",
   "execution_count": 28,
   "id": "d443176c-7244-4ccd-a725-7d0d7f9d5ac8",
   "metadata": {},
   "outputs": [
    {
     "data": {
      "text/plain": [
       "float"
      ]
     },
     "execution_count": 28,
     "metadata": {},
     "output_type": "execute_result"
    }
   ],
   "source": [
    "type(1.4)"
   ]
  },
  {
   "cell_type": "code",
   "execution_count": 29,
   "id": "3d7b3e5c-8d3a-4890-8919-9fd2b9faf497",
   "metadata": {},
   "outputs": [
    {
     "data": {
      "text/plain": [
       "float"
      ]
     },
     "execution_count": 29,
     "metadata": {},
     "output_type": "execute_result"
    }
   ],
   "source": [
    "type(1/2)"
   ]
  },
  {
   "cell_type": "markdown",
   "id": "b07ad359-848a-4ad3-bac1-8722891f453d",
   "metadata": {},
   "source": [
    "###### Q10. Compute the simple interest using the formula interest = p * n * r / 100 where p is principal, n is tenure of loan, and r is rate of interest. Accept p, n, r from users and then perform the interest calculation."
   ]
  },
  {
   "cell_type": "code",
   "execution_count": 44,
   "id": "72107732-e672-451d-b3f7-e50790e20194",
   "metadata": {},
   "outputs": [
    {
     "name": "stdin",
     "output_type": "stream",
     "text": [
      "Enter principal amount: 100\n",
      "Enter tenure of loan: 3\n",
      "Enter the ROI: 30\n"
     ]
    },
    {
     "name": "stdout",
     "output_type": "stream",
     "text": [
      "Simple interest: 90.0\n"
     ]
    }
   ],
   "source": [
    "p = int(input(\"Enter principal amount:\"))\n",
    "n = int(input(\"Enter tenure of loan:\"))\n",
    "r = int(input(\"Enter the ROI:\"))\n",
    "\n",
    "SI = p*n*r/100\n",
    "\n",
    "print(\"Simple interest:\", SI)"
   ]
  },
  {
   "cell_type": "markdown",
   "id": "2b1ba1df-5876-474c-bd45-882c10ae6005",
   "metadata": {},
   "source": [
    "###### Q11. Write a program that asks user weight in kilogram and converts into pounds. There are 2.2 pound in one kilogram."
   ]
  },
  {
   "cell_type": "code",
   "execution_count": 46,
   "id": "74f30549-f2fb-43da-9b62-ddc85b82112c",
   "metadata": {},
   "outputs": [
    {
     "name": "stdin",
     "output_type": "stream",
     "text": [
      "Enter the weight in Kilogram : 50\n"
     ]
    },
    {
     "name": "stdout",
     "output_type": "stream",
     "text": [
      "Weight in pound: 110.00000000000001\n"
     ]
    }
   ],
   "source": [
    "ask_user = int(input(\"Enter the weight in Kilogram :\"))\n",
    "weight_in_pound = ask_user*2.2\n",
    "\n",
    "print(\"Weight in pound:\", weight_in_pound)"
   ]
  },
  {
   "cell_type": "markdown",
   "id": "d977b534-fd0f-4d08-8aa4-2e5398d8dd3a",
   "metadata": {},
   "source": [
    "###### Q12. If a four digit number is entered through keyboard by user. Write a program to calculate the sum of its digits."
   ]
  },
  {
   "cell_type": "code",
   "execution_count": 45,
   "id": "01d2480e-a90c-4e54-babf-8b39dfaa5c5e",
   "metadata": {},
   "outputs": [
    {
     "name": "stdin",
     "output_type": "stream",
     "text": [
      "Enter a four-digit number 2347\n"
     ]
    },
    {
     "name": "stdout",
     "output_type": "stream",
     "text": [
      "unit_place_num: 7\n",
      "tens_place_num: 4\n",
      "hundreds_place_num: 3\n",
      "thousands_place_num: 2\n",
      "Sum of the four digit number,taken in input:  16\n"
     ]
    }
   ],
   "source": [
    "try:\n",
    "    num = int(input(\"Enter a four-digit number\"))\n",
    "    if 1000 <= num <= 9999:\n",
    "        unit_place_num = num%10\n",
    "        tens_place_num = (num//10)%10\n",
    "        hundreds_place_num = (num//100)%10\n",
    "        thousands_place_num = num//1000\n",
    "        \n",
    "        sum_num = unit_place_num+tens_place_num+hundreds_place_num+thousands_place_num\n",
    "        print(f\"unit_place_num: {unit_place_num}\\n\" f\"tens_place_num: {tens_place_num}\\n\" f\"hundreds_place_num: {hundreds_place_num}\\n\" f\"thousands_place_num: {thousands_place_num}\")\n",
    "        print(\"Sum of the four digit number,taken in input: \", sum_num)\n",
    "    else:\n",
    "        print(\"Invalid input! Enter any four-digit number only.\")\n",
    "except ValueError:\n",
    "    print(\"Invalid input! Data type doesn't match. Please enter any four digit positive number\")"
   ]
  },
  {
   "cell_type": "markdown",
   "id": "f1e97c1f-7772-43b0-a550-5bba85f89d1a",
   "metadata": {},
   "source": [
    "###### Q13. How to check the minimum and maximum element in the list, without using built-in functions?"
   ]
  },
  {
   "cell_type": "code",
   "execution_count": 108,
   "id": "84a2615c-3d9e-47c5-834d-8e4956a26a99",
   "metadata": {},
   "outputs": [
    {
     "name": "stdin",
     "output_type": "stream",
     "text": [
      "Enter the elements of the list(comma-separated):  1,2,3,4,12,34,2\n"
     ]
    },
    {
     "name": "stdout",
     "output_type": "stream",
     "text": [
      "34\n",
      "1\n"
     ]
    }
   ],
   "source": [
    "user_input = input(\"Enter the elements of the list(comma-separated): \")\n",
    "user_list = [int(x) for x in user_input.split(\",\")]\n",
    "\n",
    "user_list.sort()\n",
    "max_list = user_list[0]\n",
    "min_list = user_list[0]\n",
    "for i in user_list:\n",
    "    if i >= max_list:\n",
    "        max_list = i  \n",
    "    else:\n",
    "        i<= min_list\n",
    "        min_list = i        \n",
    "print(max_list)\n",
    "print(min_list)"
   ]
  },
  {
   "cell_type": "markdown",
   "id": "dc4431e3-c717-45b2-a98e-383a23a7f960",
   "metadata": {},
   "source": [
    "###### Q14. How to check the index of minimum and maximum element in the list, without using built-in functions?"
   ]
  },
  {
   "cell_type": "code",
   "execution_count": 111,
   "id": "f0ffec26-bce5-4099-b6f4-771112eedbc0",
   "metadata": {},
   "outputs": [
    {
     "name": "stdin",
     "output_type": "stream",
     "text": [
      "Enter the elements of the list(comma-separateed):  1,36,12,56,11,21,88,8,51\n"
     ]
    },
    {
     "name": "stdout",
     "output_type": "stream",
     "text": [
      "Index of the minimum value in the list: 8\n",
      "Index of the maximum value in the list: 0\n"
     ]
    }
   ],
   "source": [
    "input_list = input(\"Enter the elements of the list(comma-separateed): \")\n",
    "user_list = [int(x) for x in input_list.split(\",\")]\n",
    "\n",
    "min_index = 0\n",
    "max_index = 0\n",
    "\n",
    "for i in range(len(user_list)):\n",
    "    if min_index <= i:\n",
    "        min_index = i\n",
    "    else:\n",
    "        max_index >= i\n",
    "        max_index = i\n",
    "print(f\"Index of the minimum value in the list: {min_index}\")\n",
    "print(f\"Index of the maximum value in the list: {max_index}\")"
   ]
  },
  {
   "cell_type": "markdown",
   "id": "5d8e0680-60c9-44e0-bf92-0cdc725f8fc7",
   "metadata": {},
   "source": [
    "###### Q15. How to check the minimum and maximum element and their index in the list, without using built-in functions?"
   ]
  },
  {
   "cell_type": "code",
   "execution_count": 110,
   "id": "39f8f3cc-8ccc-457d-9f4e-07cfb9513a70",
   "metadata": {},
   "outputs": [
    {
     "name": "stdin",
     "output_type": "stream",
     "text": [
      "Enter the elements of the list(comma-separateed):  1,36,12,56,11,21,88,8,51\n"
     ]
    },
    {
     "name": "stdout",
     "output_type": "stream",
     "text": [
      "Minimum value in the list: 88 and it's index: 6\n",
      "maximum value in the list: 51 and it's index: 8\n"
     ]
    }
   ],
   "source": [
    "input_list = input(\"Enter the elements of the list(comma-separateed): \")\n",
    "user_list = [int(x) for x in input_list.split(\",\")]\n",
    "\n",
    "min_val = user_list[0]\n",
    "max_val = user_list[0]\n",
    "min_index = 0\n",
    "max_index = 0\n",
    "\n",
    "for i in range(len(user_list)):\n",
    "    if min_val <= user_list[i]:\n",
    "        min_val = user_list[i]\n",
    "        min_index = i\n",
    "    else:\n",
    "        max_val >= user_list[i]\n",
    "        max_val = user_list[i]\n",
    "        max_index = i\n",
    "print(f\"Minimum value in the list: {min_val} and it's index: {min_index}\")\n",
    "print(f\"maximum value in the list: {max_val} and it's index: {max_index}\")"
   ]
  },
  {
   "cell_type": "code",
   "execution_count": null,
   "id": "316b1cff-df8b-42f4-b646-1bfb8932e3fe",
   "metadata": {},
   "outputs": [],
   "source": []
  }
 ],
 "metadata": {
  "kernelspec": {
   "display_name": "Python 3 (ipykernel)",
   "language": "python",
   "name": "python3"
  },
  "language_info": {
   "codemirror_mode": {
    "name": "ipython",
    "version": 3
   },
   "file_extension": ".py",
   "mimetype": "text/x-python",
   "name": "python",
   "nbconvert_exporter": "python",
   "pygments_lexer": "ipython3",
   "version": "3.12.7"
  }
 },
 "nbformat": 4,
 "nbformat_minor": 5
}
