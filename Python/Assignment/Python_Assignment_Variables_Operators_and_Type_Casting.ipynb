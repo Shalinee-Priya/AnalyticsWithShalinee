{
 "cells": [
  {
   "cell_type": "markdown",
   "id": "1a98e7a7-39ea-4f7a-9132-de38ee329493",
   "metadata": {},
   "source": [
    "#####                                                                                                             Name - Shalinee \n",
    "#####                                                                                                             Date - 05.07.25"
   ]
  },
  {
   "cell_type": "code",
   "execution_count": null,
   "id": "3245befe-933e-4c94-89ab-dc5338d94c4d",
   "metadata": {},
   "outputs": [],
   "source": []
  },
  {
   "cell_type": "markdown",
   "id": "a4516ed8-cae6-4ffa-ab18-060be341d321",
   "metadata": {},
   "source": [
    "## 1. Understanding Variables  "
   ]
  },
  {
   "cell_type": "markdown",
   "id": "47bd5904-f798-4fa0-b0cd-3f2f453ed621",
   "metadata": {},
   "source": [
    "#### a. Define a variable in Python. Provide an example of how to create a variable that stores your name."
   ]
  },
  {
   "cell_type": "markdown",
   "id": "ef7aeb5f-6fe9-492f-a1ff-ae223c59ab6b",
   "metadata": {},
   "source": [
    "##### Ans - Variable - It is defined to contain or store data. It is case-sensitive. "
   ]
  },
  {
   "cell_type": "code",
   "execution_count": 1,
   "id": "a7efd823-ff88-4018-a829-d584cf637af6",
   "metadata": {},
   "outputs": [],
   "source": [
    "name = 'Shalinee'"
   ]
  },
  {
   "cell_type": "markdown",
   "id": "db36e87f-fec9-4e9b-8fbd-0dccef030e17",
   "metadata": {},
   "source": [
    "#### b. What is the difference between a variable and a constant? Can we have constants in Python? "
   ]
  },
  {
   "cell_type": "markdown",
   "id": "d69ec4bd-d7d9-4b97-a7e9-993594bb49dd",
   "metadata": {},
   "source": [
    "###### Variable are those, what we assign to store data., It is mutable. It is defined when we need to change the literals.\n",
    "###### Constants are fixed, immutable. It is used, when there is a fixed value.\n",
    "###### No, there's no constant in Python."
   ]
  },
  {
   "cell_type": "markdown",
   "id": "a0b8ee98-44f6-4719-90d2-55f5e1977b46",
   "metadata": {},
   "source": [
    "## 2. Working with Different Data Types"
   ]
  },
  {
   "cell_type": "markdown",
   "id": "05761bb0-6467-439c-911a-43e7e2ec1b3c",
   "metadata": {},
   "source": [
    "#### a. Create variables of the following types in Python: "
   ]
  },
  {
   "cell_type": "markdown",
   "id": "05e23435-e255-441c-a90d-0e5ddb6f1bc4",
   "metadata": {},
   "source": [
    "##### 1. Integer"
   ]
  },
  {
   "cell_type": "code",
   "execution_count": 20,
   "id": "614e5d00-5fe4-4ee4-952c-2e27b060beb5",
   "metadata": {},
   "outputs": [],
   "source": [
    "x = 51"
   ]
  },
  {
   "cell_type": "markdown",
   "id": "a288c7a3-ed60-4573-949e-222e114c2231",
   "metadata": {},
   "source": [
    "##### 2. Float "
   ]
  },
  {
   "cell_type": "code",
   "execution_count": 22,
   "id": "ac7a9e81-326d-4780-9521-1b1c8273acef",
   "metadata": {},
   "outputs": [],
   "source": [
    "y = 51.5"
   ]
  },
  {
   "cell_type": "markdown",
   "id": "2b3659c8-f30c-4644-a2b7-b84b0b18f6a8",
   "metadata": {},
   "source": [
    "##### 3. String"
   ]
  },
  {
   "cell_type": "code",
   "execution_count": 14,
   "id": "4b200b00-b950-4029-9a36-563e6be40d1b",
   "metadata": {},
   "outputs": [],
   "source": [
    "weather = \"Today, it's really a good weather\""
   ]
  },
  {
   "cell_type": "markdown",
   "id": "3ec0d941-738e-491f-9696-2ba9414ee1a4",
   "metadata": {},
   "source": [
    "##### 4. Boolean"
   ]
  },
  {
   "cell_type": "code",
   "execution_count": 17,
   "id": "bcbebbad-5c4a-43e4-be45-db0ab825be36",
   "metadata": {},
   "outputs": [],
   "source": [
    "a = True"
   ]
  },
  {
   "cell_type": "markdown",
   "id": "d37eacb0-3498-4758-8cab-2658873cd36a",
   "metadata": {},
   "source": [
    "#### b. Write a Python script to display the type of each variable you created."
   ]
  },
  {
   "cell_type": "code",
   "execution_count": 24,
   "id": "880197a5-c61f-4a06-8c10-8a1b35e8393b",
   "metadata": {},
   "outputs": [
    {
     "data": {
      "text/plain": [
       "int"
      ]
     },
     "execution_count": 24,
     "metadata": {},
     "output_type": "execute_result"
    }
   ],
   "source": [
    "type(x)"
   ]
  },
  {
   "cell_type": "code",
   "execution_count": 25,
   "id": "1246b3b4-de06-4ecb-84f1-5852b9cf7c88",
   "metadata": {},
   "outputs": [
    {
     "data": {
      "text/plain": [
       "float"
      ]
     },
     "execution_count": 25,
     "metadata": {},
     "output_type": "execute_result"
    }
   ],
   "source": [
    "type(y)"
   ]
  },
  {
   "cell_type": "code",
   "execution_count": 26,
   "id": "252ae47c-7a38-4779-ab10-6ceb9d5f3a6a",
   "metadata": {},
   "outputs": [
    {
     "data": {
      "text/plain": [
       "str"
      ]
     },
     "execution_count": 26,
     "metadata": {},
     "output_type": "execute_result"
    }
   ],
   "source": [
    "type(weather)"
   ]
  },
  {
   "cell_type": "code",
   "execution_count": 27,
   "id": "09b074b2-0b06-458c-b3dc-45b8799ff4ab",
   "metadata": {},
   "outputs": [
    {
     "data": {
      "text/plain": [
       "bool"
      ]
     },
     "execution_count": 27,
     "metadata": {},
     "output_type": "execute_result"
    }
   ],
   "source": [
    "type(a)"
   ]
  },
  {
   "cell_type": "markdown",
   "id": "88f160f3-9eb8-4ca7-86fe-7f94daab54fa",
   "metadata": {},
   "source": [
    "## 3. Arithmetic Operators "
   ]
  },
  {
   "cell_type": "markdown",
   "id": "5d743ca7-d6cf-425c-b610-fb674dda769c",
   "metadata": {},
   "source": [
    "#### a. Explain the following arithmetic operators with examples:"
   ]
  },
  {
   "cell_type": "code",
   "execution_count": 53,
   "id": "86d4cf79-f9a5-432d-8caf-d44b913de49c",
   "metadata": {},
   "outputs": [],
   "source": [
    "a = 15    ## Defining two variable to assign the data for performing arithmetic operation\n",
    "b = 5"
   ]
  },
  {
   "cell_type": "markdown",
   "id": "0ece0aee-5c10-4465-bff1-d38121066f97",
   "metadata": {},
   "source": [
    "##### 1. Addition (`+`)"
   ]
  },
  {
   "cell_type": "code",
   "execution_count": 51,
   "id": "67998fce-a7dd-4b26-b34e-86b17ad29814",
   "metadata": {},
   "outputs": [
    {
     "data": {
      "text/plain": [
       "20"
      ]
     },
     "execution_count": 51,
     "metadata": {},
     "output_type": "execute_result"
    }
   ],
   "source": [
    "a+b ## Will add two or more value"
   ]
  },
  {
   "cell_type": "markdown",
   "id": "367566ff-81a2-459d-9666-583c1480a2a1",
   "metadata": {},
   "source": [
    "##### 2. Subtraction (`-`)"
   ]
  },
  {
   "cell_type": "code",
   "execution_count": 52,
   "id": "649f398c-a256-441b-9ffe-4ba3c8f10bc4",
   "metadata": {},
   "outputs": [
    {
     "data": {
      "text/plain": [
       "10"
      ]
     },
     "execution_count": 52,
     "metadata": {},
     "output_type": "execute_result"
    }
   ],
   "source": [
    "a-b ## To give the difference between two values"
   ]
  },
  {
   "cell_type": "markdown",
   "id": "bd8f31d7-5207-40be-9a9c-cd94af3b6848",
   "metadata": {},
   "source": [
    "##### 3. Multiplication (``)"
   ]
  },
  {
   "cell_type": "code",
   "execution_count": 54,
   "id": "09b5b412-0147-457e-acb0-c5af988383e9",
   "metadata": {},
   "outputs": [
    {
     "data": {
      "text/plain": [
       "75"
      ]
     },
     "execution_count": 54,
     "metadata": {},
     "output_type": "execute_result"
    }
   ],
   "source": [
    "a*b ## To give the product of two or more values"
   ]
  },
  {
   "cell_type": "markdown",
   "id": "98585dd3-07dd-488e-b532-7f73fdf41fdd",
   "metadata": {},
   "source": [
    "##### 4. Division (`/`)"
   ]
  },
  {
   "cell_type": "code",
   "execution_count": 55,
   "id": "57e9a781-3870-403f-bca2-e8ea97071b36",
   "metadata": {},
   "outputs": [
    {
     "data": {
      "text/plain": [
       "3.0"
      ]
     },
     "execution_count": 55,
     "metadata": {},
     "output_type": "execute_result"
    }
   ],
   "source": [
    "a/b  ## To divide one value by another"
   ]
  },
  {
   "cell_type": "markdown",
   "id": "7884638c-cd44-4fb3-ab01-9b79e7b525c3",
   "metadata": {},
   "source": [
    "##### 5. Floor Division (`//`) "
   ]
  },
  {
   "cell_type": "code",
   "execution_count": 56,
   "id": "6cba11b5-ae87-4882-bf13-bdabb24c6c40",
   "metadata": {},
   "outputs": [
    {
     "data": {
      "text/plain": [
       "3"
      ]
     },
     "execution_count": 56,
     "metadata": {},
     "output_type": "execute_result"
    }
   ],
   "source": [
    "a//b ## To get the Quotient"
   ]
  },
  {
   "cell_type": "markdown",
   "id": "38c98bfe-71e0-4ed1-aa41-bc2fb90507a9",
   "metadata": {},
   "source": [
    "##### 6. Modulus (`%`) "
   ]
  },
  {
   "cell_type": "code",
   "execution_count": 57,
   "id": "2670f931-3b31-4fe3-b3d4-146359e6984d",
   "metadata": {},
   "outputs": [
    {
     "data": {
      "text/plain": [
       "0"
      ]
     },
     "execution_count": 57,
     "metadata": {},
     "output_type": "execute_result"
    }
   ],
   "source": [
    "a % b ## To get the remainder"
   ]
  },
  {
   "cell_type": "markdown",
   "id": "5707b342-5d51-4181-acb2-5264d5dde00c",
   "metadata": {},
   "source": [
    "##### 7. Exponentiation (``)"
   ]
  },
  {
   "cell_type": "code",
   "execution_count": 58,
   "id": "edf2b1cd-bb1c-43bc-b710-7768547609bd",
   "metadata": {},
   "outputs": [
    {
     "data": {
      "text/plain": [
       "759375"
      ]
     },
     "execution_count": 58,
     "metadata": {},
     "output_type": "execute_result"
    }
   ],
   "source": [
    "a**b ## To get the result as  base to the power"
   ]
  },
  {
   "cell_type": "markdown",
   "id": "88b8c8c2-5dd3-4b12-baa0-6b16aca3e091",
   "metadata": {},
   "source": [
    "#### b. Write a Python script to calculate the area of a rectangle using variables `length` and `width` with values 5 and 10, respectively. Use the multiplication operator. "
   ]
  },
  {
   "cell_type": "code",
   "execution_count": 50,
   "id": "64ea685d-85b0-4603-a05d-7822f2896df4",
   "metadata": {},
   "outputs": [
    {
     "data": {
      "text/plain": [
       "100"
      ]
     },
     "execution_count": 50,
     "metadata": {},
     "output_type": "execute_result"
    }
   ],
   "source": [
    "length = 5\n",
    "width = 10\n",
    "area_of_rectangle = 2*(length*width)\n",
    "area_of_rectangle"
   ]
  },
  {
   "cell_type": "markdown",
   "id": "80e5abbc-f30e-4d59-acc3-7ece0ec80c12",
   "metadata": {},
   "source": [
    "## 4. Comparison and Logical Operators "
   ]
  },
  {
   "cell_type": "markdown",
   "id": "5fe0f679-16e0-46a1-9db4-15dd50c60abf",
   "metadata": {},
   "source": [
    "#### a. Explain the following comparison operators with examples: "
   ]
  },
  {
   "cell_type": "code",
   "execution_count": 63,
   "id": "daa89fa4-d87e-4cb4-9038-29d7917b6a22",
   "metadata": {},
   "outputs": [],
   "source": [
    "a = 10     ## Defining two variable to assign the data for performing arithmetic operation\n",
    "b = 9"
   ]
  },
  {
   "cell_type": "markdown",
   "id": "758113a4-0b6b-4e1a-a2d3-a266c150db73",
   "metadata": {},
   "source": [
    "##### 1. Equal to (`==`) "
   ]
  },
  {
   "cell_type": "code",
   "execution_count": 65,
   "id": "466e382e-c1c9-49c7-8ec2-931d12cd8520",
   "metadata": {},
   "outputs": [
    {
     "data": {
      "text/plain": [
       "False"
      ]
     },
     "execution_count": 65,
     "metadata": {},
     "output_type": "execute_result"
    }
   ],
   "source": [
    "a == b ## will compare both variable/value and give result true, if both are equal else false"
   ]
  },
  {
   "cell_type": "markdown",
   "id": "c6400243-4f3a-46f8-bbe5-d7046a7ce44d",
   "metadata": {},
   "source": [
    "##### 2. Not equal to (`!=`) "
   ]
  },
  {
   "cell_type": "code",
   "execution_count": 67,
   "id": "5eddd654-a527-4a71-9b84-6d08e71c0cbf",
   "metadata": {},
   "outputs": [
    {
     "data": {
      "text/plain": [
       "True"
      ]
     },
     "execution_count": 67,
     "metadata": {},
     "output_type": "execute_result"
    }
   ],
   "source": [
    "a != b ## Not equal to operator is used to check if both value are not equal"
   ]
  },
  {
   "cell_type": "markdown",
   "id": "48fbd4d6-5711-4bcb-b955-d2cc59d3c332",
   "metadata": {},
   "source": [
    "##### 3. Greater than (`>`) "
   ]
  },
  {
   "cell_type": "code",
   "execution_count": 68,
   "id": "346ea890-bccd-48db-92b7-c701a064ad39",
   "metadata": {},
   "outputs": [
    {
     "data": {
      "text/plain": [
       "True"
      ]
     },
     "execution_count": 68,
     "metadata": {},
     "output_type": "execute_result"
    }
   ],
   "source": [
    "a > b ## To check if any variable/value is greater than the other or not"
   ]
  },
  {
   "cell_type": "markdown",
   "id": "cd30d0e0-664d-4077-ba5d-d09d5c7b682d",
   "metadata": {},
   "source": [
    "##### 4. Less than (`<`) "
   ]
  },
  {
   "cell_type": "code",
   "execution_count": 69,
   "id": "2849e702-f5ee-4d84-84e4-64e6731de977",
   "metadata": {},
   "outputs": [
    {
     "data": {
      "text/plain": [
       "False"
      ]
     },
     "execution_count": 69,
     "metadata": {},
     "output_type": "execute_result"
    }
   ],
   "source": [
    "a < b ## To check if any variable/value is less than the other or not"
   ]
  },
  {
   "cell_type": "markdown",
   "id": "b69605f1-6df2-4be1-9a2a-e64bfc1a4165",
   "metadata": {},
   "source": [
    "##### 5. Greater than or equal to (`>=`) "
   ]
  },
  {
   "cell_type": "code",
   "execution_count": 70,
   "id": "6621c090-aa82-4183-a513-c21b1cc3bbb5",
   "metadata": {},
   "outputs": [
    {
     "data": {
      "text/plain": [
       "True"
      ]
     },
     "execution_count": 70,
     "metadata": {},
     "output_type": "execute_result"
    }
   ],
   "source": [
    "a >= b ## To check if any variable/value is greater than or equal to than the other "
   ]
  },
  {
   "cell_type": "markdown",
   "id": "126662b5-f0c2-429f-b9e0-fd4a2f506a7b",
   "metadata": {},
   "source": [
    "##### 6. Less than or equal to (`<=`)"
   ]
  },
  {
   "cell_type": "code",
   "execution_count": 71,
   "id": "240160da-22e6-4105-b486-f65aa6dd5b0e",
   "metadata": {},
   "outputs": [
    {
     "data": {
      "text/plain": [
       "False"
      ]
     },
     "execution_count": 71,
     "metadata": {},
     "output_type": "execute_result"
    }
   ],
   "source": [
    "a <= b ## To check if any variable/value is less than or equal to than the other "
   ]
  },
  {
   "cell_type": "markdown",
   "id": "33f4ac22-a11e-42ff-9257-59024f05359b",
   "metadata": {},
   "source": [
    "## 5. Type Casting in Python "
   ]
  },
  {
   "cell_type": "markdown",
   "id": "e3b1d3a4-4b49-4c98-b703-2ab49d8ead1f",
   "metadata": {},
   "source": [
    "#### a. What is type casting? Explain the difference between implicit and explicit type casting with examples. "
   ]
  },
  {
   "cell_type": "markdown",
   "id": "605c25a8-c4cd-4ae4-ab03-fdad62b15694",
   "metadata": {},
   "source": [
    "##### Ans - Type casting is the process to convert one data type into another. There are two types of type casting -\n",
    "#####       1. Implicit - Automatically it converts the datatype without any external intervention\n",
    "#####       2. Explicit - It requires manual way to type cast using datatype as keyword"
   ]
  },
  {
   "cell_type": "code",
   "execution_count": 13,
   "id": "c9a54d05-ed77-4315-8275-1d7e2cc65f26",
   "metadata": {},
   "outputs": [],
   "source": [
    "a = 10       \n",
    "b = 5.5"
   ]
  },
  {
   "cell_type": "code",
   "execution_count": 14,
   "id": "5ceab0ce-e31a-4be9-91d1-7b9a02b0d2e6",
   "metadata": {},
   "outputs": [
    {
     "data": {
      "text/plain": [
       "15.5"
      ]
     },
     "execution_count": 14,
     "metadata": {},
     "output_type": "execute_result"
    }
   ],
   "source": [
    "a+b          ## Example of Implicit Type casting"
   ]
  },
  {
   "cell_type": "code",
   "execution_count": 15,
   "id": "1d4bdc53-b7e7-4a3f-adfa-d6823a98ff96",
   "metadata": {},
   "outputs": [
    {
     "data": {
      "text/plain": [
       "15"
      ]
     },
     "execution_count": 15,
     "metadata": {},
     "output_type": "execute_result"
    }
   ],
   "source": [
    "a+int(b)    ## Example of Explicit typecasting "
   ]
  },
  {
   "cell_type": "markdown",
   "id": "967bb3c4-b14b-40ff-935c-9c6b847c7a89",
   "metadata": {},
   "source": [
    "##### b. Write a Python script that: \n",
    "##### 1. Converts a float to an integer. \n",
    "##### 2. Converts an integer to a string. \n",
    "##### 3. Converts a string to a float."
   ]
  },
  {
   "cell_type": "code",
   "execution_count": 18,
   "id": "c139a9d7-8729-4252-a81f-fc0e4731e51f",
   "metadata": {},
   "outputs": [
    {
     "data": {
      "text/plain": [
       "22"
      ]
     },
     "execution_count": 18,
     "metadata": {},
     "output_type": "execute_result"
    }
   ],
   "source": [
    "A = 22.5\n",
    "int(A)          ## Converting a float to an integer"
   ]
  },
  {
   "cell_type": "code",
   "execution_count": 20,
   "id": "1c19b1f9-0141-4348-81d2-9926773e9684",
   "metadata": {},
   "outputs": [
    {
     "data": {
      "text/plain": [
       "'22'"
      ]
     },
     "execution_count": 20,
     "metadata": {},
     "output_type": "execute_result"
    }
   ],
   "source": [
    "B = 22\n",
    "str(B)          ## Converting an integer to a string."
   ]
  },
  {
   "cell_type": "markdown",
   "id": "c12db902-a3bc-46d0-b1ee-09d7bbb8d13c",
   "metadata": {},
   "source": [
    "##### Ans - String to float cannot be converted    ## Converts a string to a float. "
   ]
  },
  {
   "cell_type": "markdown",
   "id": "dbf78b60-8f34-4d58-8066-362d440c5fc9",
   "metadata": {},
   "source": [
    "## 6. Practical Exercise: Mini Calculator  \n",
    "### Write a Python script that asks the user to input two numbers and then: "
   ]
  },
  {
   "cell_type": "markdown",
   "id": "55effbaf-2d44-41f2-b6ff-5b870442d55b",
   "metadata": {},
   "source": [
    "##### 1. Adds the two numbers and prints the result. \n",
    "##### 2. Subtracts the second number from the first and prints the result. \n",
    "##### 3. Multiplies the two numbers and prints the result. \n",
    "##### 4. Divides the first number by the second and prints the result (handle division by zero). "
   ]
  },
  {
   "cell_type": "code",
   "execution_count": 20,
   "id": "c0885796-32a8-48e6-928c-1677e6ea91d0",
   "metadata": {},
   "outputs": [
    {
     "name": "stdin",
     "output_type": "stream",
     "text": [
      "Enter the number :  12\n",
      "Enter the number :  6\n"
     ]
    },
    {
     "name": "stdout",
     "output_type": "stream",
     "text": [
      "Sum of number_1 & number_2 :  18\n",
      "Diff of number_1 from number_2 :  6\n",
      "Product of number_1 & number_2 :  72\n",
      "Division of number_1 by number_2 :  2.0\n"
     ]
    }
   ],
   "source": [
    "number_1 = int(input(\"Enter the number : \"))\n",
    "number_2 = int(input(\"Enter the number : \"))\n",
    "print(\"Sum of number_1 & number_2 : \", number_1+number_2)\n",
    "print(\"Diff of number_1 from number_2 : \", number_1-number_2)\n",
    "print(\"Product of number_1 & number_2 : \", number_1*number_2)\n",
    "print(\"Division of number_1 by number_2 : \", number_1/number_2)"
   ]
  },
  {
   "cell_type": "markdown",
   "id": "8fa2cf7b-06e1-4fe3-9962-13003f25164b",
   "metadata": {},
   "source": [
    "##### 5. Converts the sum of the numbers to a string and prints the type of the result. "
   ]
  },
  {
   "cell_type": "code",
   "execution_count": 23,
   "id": "7725ab91-3cee-4336-aab5-a3c5991f5e19",
   "metadata": {},
   "outputs": [
    {
     "name": "stdin",
     "output_type": "stream",
     "text": [
      "Enter the number :  12\n",
      "Enter the number :  6\n"
     ]
    },
    {
     "data": {
      "text/plain": [
       "str"
      ]
     },
     "execution_count": 23,
     "metadata": {},
     "output_type": "execute_result"
    }
   ],
   "source": [
    "number_1 = int(input(\"Enter the number : \"))\n",
    "number_2 = int(input(\"Enter the number : \"))\n",
    "sum_num = number_1+number_2\n",
    "sum_num\n",
    "type(str(sum_num))"
   ]
  },
  {
   "cell_type": "code",
   "execution_count": null,
   "id": "cea0b385-fc78-468e-8be2-b4731a31036c",
   "metadata": {},
   "outputs": [],
   "source": []
  }
 ],
 "metadata": {
  "kernelspec": {
   "display_name": "Python 3 (ipykernel)",
   "language": "python",
   "name": "python3"
  },
  "language_info": {
   "codemirror_mode": {
    "name": "ipython",
    "version": 3
   },
   "file_extension": ".py",
   "mimetype": "text/x-python",
   "name": "python",
   "nbconvert_exporter": "python",
   "pygments_lexer": "ipython3",
   "version": "3.12.7"
  }
 },
 "nbformat": 4,
 "nbformat_minor": 5
}
