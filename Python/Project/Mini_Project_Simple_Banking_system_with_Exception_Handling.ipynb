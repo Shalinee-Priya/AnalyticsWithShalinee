{
 "cells": [
  {
   "cell_type": "markdown",
   "id": "9951f26a-9d0e-40ea-9e3b-2f82d2c1fa11",
   "metadata": {},
   "source": [
    "#### Mini Project: Simple Banking system with Exceptional Handling -"
   ]
  },
  {
   "cell_type": "markdown",
   "id": "6ea55cf8-c2e7-46f6-9002-626dba4eecbf",
   "metadata": {},
   "source": [
    "##### Problem Statement: You must create a simple Python program simulating a bank account withdrawal process. The program should: \n",
    "###### 1)Ask the user for their account balance and the amount they want to withdraw. \n",
    "###### 2)Check for invalid inputs (e.g., non-numeric values). \n",
    "###### 3)Handle the following cases -\n",
    "######   - trying to withdraw more money than available or trying to withdraw a negative amount.\n",
    "######   - The account balance entered is negative or zero.\n",
    "######   - The program should allow a maximum of 3 withdrawal attempts. If the user fails all attempt, display a message and terminate the program."
   ]
  },
  {
   "cell_type": "code",
   "execution_count": 153,
   "id": "bfd0fa30-acb0-4791-83ed-36f510d79067",
   "metadata": {},
   "outputs": [
    {
     "name": "stdin",
     "output_type": "stream",
     "text": [
      "Enter your account balance :  jddfj\n"
     ]
    },
    {
     "name": "stdout",
     "output_type": "stream",
     "text": [
      "Error: could not convert string to float: 'jddfj'\n"
     ]
    },
    {
     "name": "stdin",
     "output_type": "stream",
     "text": [
      "Enter your account balance :  10000.50\n",
      "Enter the amount to withdrawal :  20000\n"
     ]
    },
    {
     "name": "stdout",
     "output_type": "stream",
     "text": [
      "Insufficient balance! You can't withdrawl more than 10000.5\n"
     ]
    },
    {
     "name": "stdin",
     "output_type": "stream",
     "text": [
      "Enter your account balance :  10000.50\n",
      "Enter the amount to withdrawal :  2000\n"
     ]
    },
    {
     "name": "stdout",
     "output_type": "stream",
     "text": [
      "Transaction successful! 2000 is directly debited from your account! Available balance8000.5\n"
     ]
    }
   ],
   "source": [
    "for i in range(1,4):\n",
    "    try:\n",
    "        user_balance = float(input(\"Enter your account balance : \"))\n",
    "    except Exception as e:\n",
    "        print(f\"Error: {e}\")\n",
    "    else:\n",
    "        if user_balance > 0:\n",
    "            try:\n",
    "                withdrawal_amount = int(input(\"Enter the amount to withdrawal : \"))\n",
    "            except Exception as e:\n",
    "                print(f\"Error: {e}\")\n",
    "            else:\n",
    "                if withdrawal_amount > 0:\n",
    "                    if withdrawal_amount <= user_balance:\n",
    "                        user_balance -= withdrawal_amount\n",
    "                        print(f\"Transaction successful! {withdrawal_amount} is directly debited from your account! Available balance is {user_balance}\")\n",
    "                        break\n",
    "                    else:\n",
    "                        print(f\"Insufficient balance! You can't withdrawl more than {user_balance}\")\n",
    "                else:\n",
    "                    print(f\"You can't withdrawal negative amount\")\n",
    "        else:\n",
    "            print(\"Regret for the inconvenience! Your account balance is negative.\")\n",
    "else:\n",
    "    print(\"Sorry! Maximum attempt reached\")"
   ]
  },
  {
   "cell_type": "code",
   "execution_count": null,
   "id": "b1079d4d-6c66-40c9-953f-b5fa762a65e6",
   "metadata": {},
   "outputs": [],
   "source": []
  }
 ],
 "metadata": {
  "kernelspec": {
   "display_name": "Python 3 (ipykernel)",
   "language": "python",
   "name": "python3"
  },
  "language_info": {
   "codemirror_mode": {
    "name": "ipython",
    "version": 3
   },
   "file_extension": ".py",
   "mimetype": "text/x-python",
   "name": "python",
   "nbconvert_exporter": "python",
   "pygments_lexer": "ipython3",
   "version": "3.12.7"
  }
 },
 "nbformat": 4,
 "nbformat_minor": 5
}
